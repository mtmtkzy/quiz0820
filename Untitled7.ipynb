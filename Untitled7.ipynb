{
  "nbformat": 4,
  "nbformat_minor": 0,
  "metadata": {
    "colab": {
      "provenance": [],
      "authorship_tag": "ABX9TyM2FIjAcBOPyr5Qfv2T7lGS",
      "include_colab_link": true
    },
    "kernelspec": {
      "name": "python3",
      "display_name": "Python 3"
    },
    "language_info": {
      "name": "python"
    }
  },
  "cells": [
    {
      "cell_type": "markdown",
      "metadata": {
        "id": "view-in-github",
        "colab_type": "text"
      },
      "source": [
        "<a href=\"https://colab.research.google.com/github/mtmtkzy/quiz0820/blob/main/Untitled7.ipynb\" target=\"_parent\"><img src=\"https://colab.research.google.com/assets/colab-badge.svg\" alt=\"Open In Colab\"/></a>"
      ]
    },
    {
      "cell_type": "code",
      "execution_count": null,
      "metadata": {
        "id": "Osib6ynFdMaF"
      },
      "outputs": [],
      "source": [
        "# 回答を求めるコード\n",
        "answer = input(\"答えは？ (1, 2, 3): \")\n",
        "\n",
        "if answer == \"2\":\n",
        "    print(\"正解！\")\n",
        "else:\n",
        "    print(\"不正解です。答えは東京です。\")"
      ]
    }
  ]
}