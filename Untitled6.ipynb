{
  "nbformat": 4,
  "nbformat_minor": 0,
  "metadata": {
    "colab": {
      "provenance": [],
      "authorship_tag": "ABX9TyP+G4vzmsy3R+rcC6HtThVJ",
      "include_colab_link": true
    },
    "kernelspec": {
      "name": "python3",
      "display_name": "Python 3"
    },
    "language_info": {
      "name": "python"
    }
  },
  "cells": [
    {
      "cell_type": "markdown",
      "metadata": {
        "id": "view-in-github",
        "colab_type": "text"
      },
      "source": [
        "<a href=\"https://colab.research.google.com/github/mtmtkzy/quiz0820/blob/main/Untitled6.ipynb\" target=\"_parent\"><img src=\"https://colab.research.google.com/assets/colab-badge.svg\" alt=\"Open In Colab\"/></a>"
      ]
    },
    {
      "cell_type": "code",
      "execution_count": null,
      "metadata": {
        "id": "NamIdd_XcMaz"
      },
      "outputs": [],
      "source": [
        "import random\n",
        "\n",
        "prefectures = {\n",
        "    \"北海道\": \"札幌市\",\n",
        "    \"青森県\": \"青森市\",\n",
        "    \"岩手県\": \"盛岡市\",\n",
        "    \"宮城県\": \"仙台市\",\n",
        "    \"秋田県\": \"秋田市\",\n",
        "    \"山形県\": \"山形市\",\n",
        "    \"福島県\": \"福島市\",\n",
        "    \"茨城県\": \"水戸市\",\n",
        "    \"栃木県\": \"宇都宮市\",\n",
        "    \"群馬県\": \"前橋市\",\n",
        "    \"埼玉県\": \"さいたま市\",\n",
        "    \"千葉県\": \"千葉市\",\n",
        "    \"東京都\": \"新宿区\",\n",
        "    \"神奈川県\": \"横浜市\",\n",
        "    \"新潟県\": \"新潟市\",\n",
        "    \"富山県\": \"富山市\",\n",
        "    \"石川県\": \"金沢市\",\n",
        "    \"福井県\": \"福井市\",\n",
        "    \"山梨県\": \"甲府市\",\n",
        "    \"長野県\": \"長野市\",\n",
        "    \"岐阜県\": \"岐阜市\",\n",
        "    \"静岡県\": \"静岡市\",\n",
        "    \"愛知県\": \"名古屋市\",\n",
        "    \"三重県\": \"津市\",\n",
        "    \"滋賀県\": \"大津市\",\n",
        "    \"京都府\": \"京都市\",\n",
        "    \"大阪府\": \"大阪市\",\n",
        "    \"兵庫県\": \"神戸市\",\n",
        "    \"奈良県\": \"奈良市\",\n",
        "    \"和歌山県\": \"和歌山市\",\n",
        "    \"鳥取県\": \"鳥取市\",\n",
        "    \"島根県\": \"松江市\",\n",
        "    \"岡山県\": \"岡山市\",\n",
        "    \"広島県\": \"広島市\",\n",
        "    \"山口県\": \"山口市\",\n",
        "    \"徳島県\": \"徳島市\",\n",
        "    \"香川県\": \"高松市\",\n",
        "    \"愛媛県\": \"松山市\",\n",
        "    \"高知県\": \"高知市\",\n",
        "    \"福岡県\": \"福岡市\",\n",
        "    \"佐賀県\": \"佐賀市\",\n",
        "    \"長崎県\": \"長崎市\",\n",
        "    \"熊本県\": \"熊本市\",\n",
        "    \"大分県\": \"大分市\",\n",
        "    \"宮崎県\": \"宮崎市\",\n",
        "    \"鹿児島県\": \"鹿児島市\",\n",
        "    \"沖縄県\": \"那覇市\"\n",
        "}\n",
        "\n",
        "def prefectural_quiz():\n",
        "    score = 0\n",
        "    items = list(prefectures.items())\n",
        "    random.shuffle(items)\n",
        "\n",
        "    for prefecture, capital in items:\n",
        "        answer = input(f\"{prefecture}の県庁所在地は？: \")\n",
        "        if answer == capital:\n",
        "            print(\"正解！\")\n",
        "            score += 1\n",
        "        else:\n",
        "            print(f\"不正解。正解は {capital} です。\")\n",
        "\n",
        "    print(f\"クイズ終了！あなたのスコアは {len(prefectures)}問中 {score}点 です。\")\n",
        "\n",
        "if __name__ == \"__main__\":\n",
        "    prefectural_quiz()"
      ]
    }
  ]
}